{
 "cells": [
  {
   "cell_type": "code",
   "execution_count": 29,
   "metadata": {},
   "outputs": [],
   "source": [
    "import numpy as np\n",
    "import matplotlib.pyplot as plt\n",
    "%matplotlib inline\n",
    "class bandit(object):\n",
    "    def __init__(self,m):\n",
    "        self.actual_mean=m\n",
    "        self.actual_value=0\n",
    "        self.current_mean=0\n",
    "        self.counter=0\n",
    "\n",
    "    def __pull__(self):\n",
    "        val=np.random.randn()+self.actual_mean*1.0\n",
    "        return val\n",
    "\n",
    "    def update(self,value):\n",
    "        self.counter+=1\n",
    "        self.current_mean=(1.0-1.0/self.counter)*self.current_mean+(1.0/self.counter)*value\n",
    "\n",
    "\n",
    "def conductExperiment(v1,v2,v3,epsilon,N):\n",
    "    res=[]\n",
    "    Bandits=[bandit(v1),bandit(v2),bandit(v3)]\n",
    "    for i in range(N):\n",
    "        val=np.random.randn()\n",
    "        if val<epsilon:\n",
    "            choice=np.random.choice(3)\n",
    "        else:\n",
    "            choice=np.argmax([b.current_mean for b in Bandits])\n",
    "        value=Bandits[choice].__pull__()\n",
    "        res.append(value)\n",
    "        Bandits[choice].update(value)\n",
    "    return res"
   ]
  },
  {
   "cell_type": "code",
   "execution_count": 46,
   "metadata": {},
   "outputs": [
    {
     "data": {
      "text/plain": [
       "[<matplotlib.lines.Line2D at 0x7fe1054d28d0>]"
      ]
     },
     "execution_count": 46,
     "metadata": {},
     "output_type": "execute_result"
    },
    {
     "data": {
      "image/png": "[encoded data removed]",
      "text/plain": [
       "<Figure size 432x288 with 1 Axes>"
      ]
     },
     "metadata": {
      "needs_background": "light"
     },
     "output_type": "display_data"
    }
   ],
   "source": [
    "n=10000\n",
    "res=conductExperiment(0.1,0.3,0.7,0.1,n)\n",
    "cumaverage=np.cumsum(res)/(np.arange(n)+1)\n",
    "plt.plot(cumaverage)\n",
    "plt.plot(np.ones(n)*0.1)\n",
    "plt.plot(np.ones(n)*0.3)\n",
    "plt.plot(np.ones(n)*0.7)\n"
   ]
  },
  {
   "cell_type": "code",
   "execution_count": null,
   "metadata": {},
   "outputs": [],
   "source": []
  },
  {
   "cell_type": "code",
   "execution_count": null,
   "metadata": {},
   "outputs": [],
   "source": []
  },
  {
   "cell_type": "code",
   "execution_count": null,
   "metadata": {},
   "outputs": [],
   "source": []
  },
  {
   "cell_type": "code",
   "execution_count": null,
   "metadata": {},
   "outputs": [],
   "source": []
  }
 ],
 "metadata": {
  "kernelspec": {
   "display_name": "Python 3",
   "language": "python",
   "name": "python3"
  },
  "language_info": {
   "codemirror_mode": {
    "name": "ipython",
    "version": 3
   },
   "file_extension": ".py",
   "mimetype": "text/x-python",
   "name": "python",
   "nbconvert_exporter": "python",
   "pygments_lexer": "ipython3",
   "version": "3.6.7"
  }
 },
 "nbformat": 4,
 "nbformat_minor": 2
}
